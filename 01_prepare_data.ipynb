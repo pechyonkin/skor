{
 "cells": [
  {
   "cell_type": "markdown",
   "metadata": {},
   "source": [
    "# Processing Pipeline"
   ]
  },
  {
   "cell_type": "markdown",
   "metadata": {},
   "source": [
    "# 1. Read in CSV, ignore invalid rows"
   ]
  },
  {
   "cell_type": "code",
   "execution_count": null,
   "metadata": {},
   "outputs": [],
   "source": [
    "import pandas as pd\n",
    "import json\n",
    "\n",
    "DATA_PATH = '7004_1.csv'\n",
    "\n",
    "df = pd.read_csv(DATA_PATH, error_bad_lines=False, warn_bad_lines=False)"
   ]
  },
  {
   "cell_type": "code",
   "execution_count": null,
   "metadata": {},
   "outputs": [],
   "source": [
    "df.shape"
   ]
  },
  {
   "cell_type": "code",
   "execution_count": null,
   "metadata": {},
   "outputs": [],
   "source": [
    "df.columns"
   ]
  },
  {
   "cell_type": "markdown",
   "metadata": {},
   "source": [
    "# 2. Remove rows with all NaNs"
   ]
  },
  {
   "cell_type": "code",
   "execution_count": null,
   "metadata": {},
   "outputs": [],
   "source": [
    "all_nan_cols = df.isnull().all()\n",
    "all_nan_cols[all_nan_cols]"
   ]
  },
  {
   "cell_type": "code",
   "execution_count": null,
   "metadata": {},
   "outputs": [],
   "source": [
    "all_nan_col_names = all_nan_cols[all_nan_cols].index\n",
    "all_nan_col_names"
   ]
  },
  {
   "cell_type": "code",
   "execution_count": null,
   "metadata": {},
   "outputs": [],
   "source": [
    "df = df.drop(all_nan_col_names, axis=1)"
   ]
  },
  {
   "cell_type": "markdown",
   "metadata": {},
   "source": [
    "# 3. Remove rows with NaNs percentage > 99%"
   ]
  },
  {
   "cell_type": "code",
   "execution_count": null,
   "metadata": {},
   "outputs": [],
   "source": [
    "def get_nans_percentages(data):\n",
    "    \"\"\"\n",
    "    Get percentages of NaNs for each column.\n",
    "    \n",
    "    Returns Series with index of column names and float values.\n",
    "    \"\"\"\n",
    "    nrows, _ = data.shape\n",
    "    return (data.isnull().sum(axis=0) / nrows).sort_values(ascending=False)\n",
    "\n",
    "def get_colnames_with_nans_above_thresh(data, thresh: float):\n",
    "    \"\"\"\n",
    "    Return column names with NaNs proportions above the given level.\n",
    "    \"\"\"\n",
    "    percentages = get_nans_percentages(data)\n",
    "    result = percentages[percentages > thresh]\n",
    "    return result.index\n",
    "\n"
   ]
  },
  {
   "cell_type": "code",
   "execution_count": null,
   "metadata": {},
   "outputs": [],
   "source": [
    "colnames_with_too_many_nans = get_colnames_with_nans_above_thresh(df, thresh=0.99)\n",
    "colnames_with_too_many_nans"
   ]
  },
  {
   "cell_type": "code",
   "execution_count": null,
   "metadata": {},
   "outputs": [],
   "source": [
    "df = df.drop(colnames_with_too_many_nans, axis=1)"
   ]
  },
  {
   "cell_type": "code",
   "execution_count": null,
   "metadata": {},
   "outputs": [],
   "source": [
    "df.head(10)"
   ]
  },
  {
   "cell_type": "markdown",
   "metadata": {},
   "source": [
    "# 4. Remove marked columns 🔴\n",
    "\n",
    "Analysis why columns below need to be removed is in the notes PDF accompanying this submission.\n",
    "\n",
    "Main reasons are:\n",
    "\n",
    "- features that are `id`-like, i.e. we don't want to train for a specific product id, this will overfit\n",
    "- features that I deemed not very relevant - such as dates, even though I could be possible to turn those dates into categorical features like day of the week, holiday, season etc. For now I decided to not put additional effort in there and focus on building a working MVP.\n",
    "- features having NLP data, such as reviews, name of the product. I could build an NLP feature exctractor based on a neural net that could probably work, but to save time I ignore it for now\n",
    "- URLs to images and webpages. Some of them are not available, or extracting requires additional work that is not feasible given my time constraints for this project."
   ]
  },
  {
   "cell_type": "code",
   "execution_count": null,
   "metadata": {},
   "outputs": [],
   "source": [
    "for cname in df.columns:\n",
    "    print(f\"    '{cname}',\")"
   ]
  },
  {
   "cell_type": "code",
   "execution_count": null,
   "metadata": {},
   "outputs": [],
   "source": [
    "cols_to_remove = [\n",
    "    'id',\n",
    "    'asins',\n",
    "    'dateAdded',\n",
    "    'dateUpdated',\n",
    "    'descriptions',\n",
    "    'ean',\n",
    "    'features',\n",
    "    'imageURLs',\n",
    "    'keys',\n",
    "    'manufacturerNumber',\n",
    "    'merchants',\n",
    "    'name',\n",
    "    'prices.amountMin',\n",
    "    'prices.dateAdded',\n",
    "    'prices.dateSeen',\n",
    "    'prices.sourceURLs',\n",
    "    'skus',\n",
    "    'sourceURLs',\n",
    "    'upc',\n",
    "    'weight',\n",
    "]\n",
    "\n",
    "df = df.drop(cols_to_remove, axis=1)"
   ]
  },
  {
   "cell_type": "code",
   "execution_count": null,
   "metadata": {},
   "outputs": [],
   "source": [
    "df"
   ]
  },
  {
   "cell_type": "markdown",
   "metadata": {},
   "source": [
    "## Dealing with currency and price conversion"
   ]
  },
  {
   "cell_type": "code",
   "execution_count": null,
   "metadata": {},
   "outputs": [],
   "source": [
    "df['prices.currency'].value_counts()"
   ]
  },
  {
   "cell_type": "markdown",
   "metadata": {},
   "source": [
    "\n",
    "First observation - there appear to be some illegal currencies. Second is that there are not only prices in USD, but also in AUD, CAD, EUR and GBP. I could discard that, but I will convert all prices to USD. The best way to do it would be to retrieve the exchange rates for when the prices were published, but I will simplify and take the current rates. In production, this would definitely require more careful analysis. \n",
    "\n",
    "Another question I would ask is whether features are good predictors in other markets that use other currencies. It might be the case that for a given local market it is better to have a separate model that learn important relationships in the local market."
   ]
  },
  {
   "cell_type": "markdown",
   "metadata": {},
   "source": [
    "### Currency, Part 1: Remove rows that are not currencies."
   ]
  },
  {
   "cell_type": "code",
   "execution_count": null,
   "metadata": {},
   "outputs": [],
   "source": [
    "currencies_all = df['prices.currency'].value_counts()\n",
    "currencies_all"
   ]
  },
  {
   "cell_type": "code",
   "execution_count": null,
   "metadata": {},
   "outputs": [],
   "source": [
    "illegal_currencies = currencies_all[currencies_all < 20 ].index\n",
    "illegal_currencies"
   ]
  },
  {
   "cell_type": "code",
   "execution_count": null,
   "metadata": {},
   "outputs": [],
   "source": [
    "'SHOEBACCA LTD. - Walmart.com' in illegal_currencies"
   ]
  },
  {
   "cell_type": "code",
   "execution_count": null,
   "metadata": {},
   "outputs": [],
   "source": [
    "rows_illegal_currency = df['prices.currency'].apply(lambda x: x in illegal_currencies)\n",
    "rows_illegal_fx = rows_illegal_currency[rows_illegal_currency == True].index\n",
    "rows_illegal_fx"
   ]
  },
  {
   "cell_type": "code",
   "execution_count": null,
   "metadata": {},
   "outputs": [],
   "source": [
    "df.shape"
   ]
  },
  {
   "cell_type": "code",
   "execution_count": null,
   "metadata": {},
   "outputs": [],
   "source": [
    "df = df.drop(rows_illegal_fx, axis=0)"
   ]
  },
  {
   "cell_type": "code",
   "execution_count": null,
   "metadata": {},
   "outputs": [],
   "source": [
    "df.shape"
   ]
  },
  {
   "cell_type": "code",
   "execution_count": null,
   "metadata": {},
   "outputs": [],
   "source": [
    "df['prices.currency'].value_counts()"
   ]
  },
  {
   "cell_type": "markdown",
   "metadata": {},
   "source": [
    "### Currency, Part 2: calculate the price based on currency and FX rate"
   ]
  },
  {
   "cell_type": "markdown",
   "metadata": {},
   "source": [
    "- `fx_rates` is a mapping from dictionary to a scalar that will be multiply price in currency to make it price in dollars\n",
    "- I used Google to get the rates"
   ]
  },
  {
   "cell_type": "code",
   "execution_count": null,
   "metadata": {},
   "outputs": [],
   "source": [
    "fx_rates = {\n",
    "    'USD': 1.00,\n",
    "    'AUD': 0.68,\n",
    "    'CAD': 0.75,\n",
    "    'EUR': 1.10,\n",
    "    'GBP': 1.25,\n",
    "}"
   ]
  },
  {
   "cell_type": "code",
   "execution_count": null,
   "metadata": {},
   "outputs": [],
   "source": [
    "df['prices.amountMax'].isnull().sum()"
   ]
  },
  {
   "cell_type": "code",
   "execution_count": null,
   "metadata": {},
   "outputs": [],
   "source": [
    "df['prices.currency'].isnull().sum()"
   ]
  },
  {
   "cell_type": "code",
   "execution_count": null,
   "metadata": {},
   "outputs": [],
   "source": [
    "def is_invalid_price_string(s):\n",
    "    s = str(s)\n",
    "    illegal_chars = '-T:Z'\n",
    "    for c in illegal_chars:\n",
    "        if c in s:\n",
    "            return True\n",
    "    return False\n",
    "\n",
    "illegal_price_mask = df['prices.amountMax'].apply(is_invalid_price_string)\n",
    "illegal_price_idxs = illegal_price_mask[illegal_price_mask].index\n",
    "illegal_price_idxs"
   ]
  },
  {
   "cell_type": "markdown",
   "metadata": {},
   "source": [
    "As you can see below, these rows clearly don't belong here. Not only the price is illegal, it looks like these are not even shoes."
   ]
  },
  {
   "cell_type": "code",
   "execution_count": null,
   "metadata": {},
   "outputs": [],
   "source": [
    "df.loc[illegal_price_idxs]"
   ]
  },
  {
   "cell_type": "markdown",
   "metadata": {},
   "source": [
    "Let's remove these rows."
   ]
  },
  {
   "cell_type": "code",
   "execution_count": null,
   "metadata": {},
   "outputs": [],
   "source": [
    "df = df.drop(illegal_price_idxs)"
   ]
  },
  {
   "cell_type": "code",
   "execution_count": null,
   "metadata": {},
   "outputs": [],
   "source": [
    "def convert_to_usd(row):\n",
    "    price = float(row['prices.amountMax'])\n",
    "    currency = row['prices.currency']\n",
    "    if not currency:\n",
    "        # if currency is NaN assume USD and return price\n",
    "        return price\n",
    "    fx_rate = fx_rates[currency]\n",
    "    return price * fx_rate\n",
    "\n",
    "df['price'] = df.apply(convert_to_usd, axis=1)\n",
    "df = df.drop(['prices.amountMax'], axis=1)\n",
    "df"
   ]
  },
  {
   "cell_type": "markdown",
   "metadata": {},
   "source": [
    "## Cleaning `isSale` column"
   ]
  },
  {
   "cell_type": "code",
   "execution_count": null,
   "metadata": {},
   "outputs": [],
   "source": [
    "def get_unique_nans(colname, data, display=True):\n",
    "    uniques = data[colname].unique()\n",
    "    nans = data[colname].isnull().sum()\n",
    "    print(uniques)\n",
    "    print(f'Uniques: {len(uniques)}')\n",
    "    print(f'Nans: {nans}')\n",
    "    if not display:\n",
    "        return uniques, nans"
   ]
  },
  {
   "cell_type": "code",
   "execution_count": null,
   "metadata": {},
   "outputs": [],
   "source": [
    "get_unique_nans('prices.isSale', df)"
   ]
  },
  {
   "cell_type": "code",
   "execution_count": null,
   "metadata": {},
   "outputs": [],
   "source": [
    "def process_is_sale(x):\n",
    "    if isinstance(x, bool):\n",
    "        return x\n",
    "    elif x.capitalize() == 'True':\n",
    "        return True\n",
    "    elif x.capitalize() == 'False':\n",
    "        return False\n",
    "    else:\n",
    "        print(x)\n",
    "        print(type(x))\n",
    "        raise ValueError(\"Something went wrong!\")\n",
    "\n",
    "df['prices.isSale'] = df['prices.isSale'].apply(process_is_sale)"
   ]
  },
  {
   "cell_type": "code",
   "execution_count": null,
   "metadata": {},
   "outputs": [],
   "source": [
    "df['prices.isSale']"
   ]
  },
  {
   "cell_type": "markdown",
   "metadata": {},
   "source": [
    "## Cleaning `categories` column"
   ]
  },
  {
   "cell_type": "markdown",
   "metadata": {},
   "source": [
    "Since categories are presented as comma separated values, let's see how many unique categories are there by splitting them.\n",
    "\n",
    "After splitting, I realized that the categoriez are not very informative and decided to remove the column."
   ]
  },
  {
   "cell_type": "code",
   "execution_count": null,
   "metadata": {},
   "outputs": [],
   "source": [
    "all_categories = []\n",
    "\n",
    "for string in df.categories.unique():\n",
    "    string = string.lower()\n",
    "    if 'shoes' not in string:\n",
    "        print(string)\n",
    "    subcategories = string.split(',')\n",
    "    subcategories = [s.strip() for s in subcategories]\n",
    "    for s in subcategories:\n",
    "        if s not in all_categories:\n",
    "            all_categories.append(s)\n",
    "            \n",
    "print(len(all_categories))"
   ]
  },
  {
   "cell_type": "code",
   "execution_count": null,
   "metadata": {},
   "outputs": [],
   "source": [
    "all_categories"
   ]
  },
  {
   "cell_type": "code",
   "execution_count": null,
   "metadata": {},
   "outputs": [],
   "source": [
    "df = df.drop(['categories'], axis=1)"
   ]
  },
  {
   "cell_type": "markdown",
   "metadata": {},
   "source": [
    "## Cleaning `brand` column\n",
    "\n",
    "This one is ready to be categorized."
   ]
  },
  {
   "cell_type": "code",
   "execution_count": null,
   "metadata": {},
   "outputs": [],
   "source": [
    "get_unique_nans('brand', df)"
   ]
  },
  {
   "cell_type": "markdown",
   "metadata": {},
   "source": [
    "## Cleaning `prices.merchant`\n",
    "\n",
    "Ready for categorization."
   ]
  },
  {
   "cell_type": "code",
   "execution_count": null,
   "metadata": {},
   "outputs": [],
   "source": [
    "get_unique_nans('prices.merchant', df)"
   ]
  },
  {
   "cell_type": "markdown",
   "metadata": {},
   "source": [
    "## Cleaning `prices.condition` column"
   ]
  },
  {
   "cell_type": "code",
   "execution_count": null,
   "metadata": {},
   "outputs": [],
   "source": [
    "get_unique_nans('prices.condition', df)"
   ]
  },
  {
   "cell_type": "markdown",
   "metadata": {},
   "source": [
    "## Cleaning `colors` column"
   ]
  },
  {
   "cell_type": "markdown",
   "metadata": {},
   "source": [
    "This is fairly complex column, with a lot of messy colors. I will simply make it lower-case and remove dashes for the time being."
   ]
  },
  {
   "cell_type": "code",
   "execution_count": null,
   "metadata": {},
   "outputs": [],
   "source": [
    "unique_colors, nans_color = get_unique_nans('colors', df, display=False)\n",
    "unique_colors, nans_color"
   ]
  },
  {
   "cell_type": "code",
   "execution_count": null,
   "metadata": {},
   "outputs": [],
   "source": [
    "df['colors'] = df['colors'].apply(lambda x: x.lower().replace(' ', '').replace('-', '') if not pd.isnull(x) else x)"
   ]
  },
  {
   "cell_type": "markdown",
   "metadata": {},
   "source": [
    "## Cleaning `manufacturer` column\n",
    "This one is ready for encoding as a categorical feature."
   ]
  },
  {
   "cell_type": "code",
   "execution_count": null,
   "metadata": {},
   "outputs": [],
   "source": [
    "get_unique_nans('manufacturer', df)"
   ]
  },
  {
   "cell_type": "markdown",
   "metadata": {},
   "source": [
    "## Cleaning `prices.offer` column\n",
    "\n",
    "I will leave it as is."
   ]
  },
  {
   "cell_type": "code",
   "execution_count": null,
   "metadata": {},
   "outputs": [],
   "source": [
    "get_unique_nans('prices.offer', df)"
   ]
  },
  {
   "cell_type": "markdown",
   "metadata": {},
   "source": [
    "## Cleaning `prices.shipping` column\n",
    "\n",
    "I will broadly categorize this variable into \"Free\" vs \"Not Free\""
   ]
  },
  {
   "cell_type": "code",
   "execution_count": null,
   "metadata": {},
   "outputs": [],
   "source": [
    "get_unique_nans('prices.shipping', df)"
   ]
  },
  {
   "cell_type": "code",
   "execution_count": null,
   "metadata": {},
   "outputs": [],
   "source": [
    "def process_shipping(x):\n",
    "    if pd.isnull(x):\n",
    "        return x\n",
    "    \n",
    "    x = x.lower()\n",
    "    if 'free' in x:\n",
    "        return 'free'\n",
    "    else:\n",
    "        return 'not free'\n",
    "    return x\n",
    "    \n",
    "    \n",
    "df['prices.shipping'] = df['prices.shipping'].apply(process_shipping)\n",
    "df['prices.shipping'].value_counts()"
   ]
  },
  {
   "cell_type": "markdown",
   "metadata": {},
   "source": [
    "## Cleaning `sizes` column\n",
    "\n",
    "To simplify, I will calculate how many sizes are available for a particulate shoe."
   ]
  },
  {
   "cell_type": "code",
   "execution_count": null,
   "metadata": {},
   "outputs": [],
   "source": [
    "get_unique_nans('sizes', df)"
   ]
  },
  {
   "cell_type": "code",
   "execution_count": null,
   "metadata": {},
   "outputs": [],
   "source": [
    "def process_sizes(x):\n",
    "    if pd.isnull(x):\n",
    "        return x\n",
    "    return len(x.split(','))\n",
    "\n",
    "df['sizes'] = df['sizes'].apply(process_sizes)\n",
    "df['sizes'].value_counts()"
   ]
  },
  {
   "cell_type": "markdown",
   "metadata": {},
   "source": [
    "## Cleaning `dimension` column\n",
    "\n",
    "Let's see if dimension can be easily processed.\n",
    "\n",
    "To simplify, I will create a dimension number as the sum of all 3 dimensions. This will help to deal with inconsistencies of the order of the three dimensions (e.g. is it height-width-depth or depth-heitht-width or some other combination)."
   ]
  },
  {
   "cell_type": "code",
   "execution_count": null,
   "metadata": {},
   "outputs": [],
   "source": [
    "unique_dims, _ = get_unique_nans('dimension', df, display=False)"
   ]
  },
  {
   "cell_type": "code",
   "execution_count": null,
   "metadata": {},
   "outputs": [],
   "source": [
    "for d in unique_dims:\n",
    "    if not pd.isnull(d) and len(d.split('x')) != 3:\n",
    "        print(d)"
   ]
  },
  {
   "cell_type": "markdown",
   "metadata": {},
   "source": [
    "This means almost all dimensions can be split by `x` except for '32 inches' one."
   ]
  },
  {
   "cell_type": "code",
   "execution_count": null,
   "metadata": {},
   "outputs": [],
   "source": [
    "def process_dimensions(x):\n",
    "    if pd.isnull(x):\n",
    "        return x\n",
    "    \n",
    "    # deal with edge case\n",
    "    if x == '32 inches':\n",
    "        return 32.0\n",
    "    \n",
    "    x = x.lower()\n",
    "    dims = x.split('x')\n",
    "    dims = [d.replace(' ', '').replace('in', '') for d in dims]\n",
    "    dims = map(float, dims)\n",
    "    return sum(dims)\n",
    "    \n",
    "    \n",
    "df['dimension'] = df['dimension'].apply(process_dimensions)\n",
    "df['dimension']"
   ]
  },
  {
   "cell_type": "markdown",
   "metadata": {},
   "source": [
    "## Cleaning `prices.size` column\n",
    "\n",
    "Drop this column, since too few values and mostly very different."
   ]
  },
  {
   "cell_type": "code",
   "execution_count": null,
   "metadata": {},
   "outputs": [],
   "source": [
    "get_unique_nans('prices.size', df)"
   ]
  },
  {
   "cell_type": "code",
   "execution_count": null,
   "metadata": {},
   "outputs": [],
   "source": [
    "df['prices.size'].value_counts()"
   ]
  },
  {
   "cell_type": "code",
   "execution_count": null,
   "metadata": {},
   "outputs": [],
   "source": [
    "df = df.drop('prices.size', axis=1)"
   ]
  },
  {
   "cell_type": "markdown",
   "metadata": {},
   "source": [
    "## Cleaning `prices.color` column\n",
    "\n",
    "Drop this too, for same reason."
   ]
  },
  {
   "cell_type": "code",
   "execution_count": null,
   "metadata": {},
   "outputs": [],
   "source": [
    "get_unique_nans('prices.color', df)"
   ]
  },
  {
   "cell_type": "code",
   "execution_count": null,
   "metadata": {},
   "outputs": [],
   "source": [
    "df = df.drop('prices.color', axis=1)"
   ]
  },
  {
   "cell_type": "markdown",
   "metadata": {},
   "source": [
    "## Cleaning `prices.returnPolicy` column\n",
    "\n",
    "Ready for categorizing."
   ]
  },
  {
   "cell_type": "code",
   "execution_count": null,
   "metadata": {},
   "outputs": [],
   "source": [
    "get_unique_nans('prices.returnPolicy', df)"
   ]
  },
  {
   "cell_type": "code",
   "execution_count": null,
   "metadata": {},
   "outputs": [],
   "source": [
    "df['prices.returnPolicy'].value_counts()"
   ]
  },
  {
   "cell_type": "markdown",
   "metadata": {},
   "source": [
    "## Calculating Average Review Score\n",
    "\n",
    "I decided to calculate average rating for reviews with rating. If there is no rating, return zero."
   ]
  },
  {
   "cell_type": "code",
   "execution_count": null,
   "metadata": {},
   "outputs": [],
   "source": [
    "no_reviews_idxs = df['reviews'].isnull()"
   ]
  },
  {
   "cell_type": "code",
   "execution_count": null,
   "metadata": {},
   "outputs": [],
   "source": [
    "df['reviews'][~no_reviews_idxs]"
   ]
  },
  {
   "cell_type": "code",
   "execution_count": null,
   "metadata": {},
   "outputs": [],
   "source": [
    "def parse_review(x):\n",
    "    if pd.isnull(x):\n",
    "        return x\n",
    "\n",
    "    rating = 0.0\n",
    "    try:\n",
    "        reviews = json.loads(x)\n",
    "        for r in reviews:\n",
    "            if 'rating' in r.keys():\n",
    "                rating += float(r['rating'])\n",
    "        return rating / len(reviews)\n",
    "    except:\n",
    "        return rating\n",
    "\n",
    "df['reviews'] = df['reviews'].apply(parse_review)\n",
    "df['reviews'].value_counts()"
   ]
  },
  {
   "cell_type": "code",
   "execution_count": null,
   "metadata": {},
   "outputs": [],
   "source": []
  },
  {
   "cell_type": "code",
   "execution_count": null,
   "metadata": {},
   "outputs": [],
   "source": []
  }
 ],
 "metadata": {
  "kernelspec": {
   "display_name": "Python 3",
   "language": "python",
   "name": "python3"
  }
 },
 "nbformat": 4,
 "nbformat_minor": 2
}
